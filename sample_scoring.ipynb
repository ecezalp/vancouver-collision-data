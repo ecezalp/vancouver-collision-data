{
 "cells": [
  {
   "cell_type": "code",
   "execution_count": 1,
   "metadata": {
    "collapsed": true
   },
   "outputs": [],
   "source": [
    "import pandas as pd"
   ]
  },
  {
   "cell_type": "code",
   "execution_count": null,
   "metadata": {
    "collapsed": true
   },
   "outputs": [],
   "source": [
    "# Sampl user data after ride: lat and long coordinates over a set interval of time (5000 miliseconds)"
   ]
  },
  {
   "cell_type": "code",
   "execution_count": null,
   "metadata": {
    "collapsed": true
   },
   "outputs": [],
   "source": [
    "user_ride = {\n",
    "    'user_id': 1,\n",
    "    'ride_id': 2,\n",
    "    'interval': 5000,\n",
    "    'coordinates': [\n",
    "        {'latitude': 49.269104, 'longitude': -123.215024}, \n",
    "        {'latitude': 49.269104, 'longitude': -123.215024}, \n",
    "        {'latitude': 49.269104, 'longitude': -123.215024}, \n",
    "        {'latitude': 49.269104, 'longitude': -123.215024}, \n",
    "        {'latitude': 49.269104, 'longitude': -123.215024}, \n",
    "        {'latitude': 49.269104, 'longitude': -123.215024}, \n",
    "        {'latitude': 49.269104, 'longitude': -123.215024}, \n",
    "        {'latitude': 49.269104, 'longitude': -123.215024}, \n",
    "        {'latitude': 49.269104, 'longitude': -123.215024}, \n",
    "        {'latitude': 49.269104, 'longitude': -123.215024},                 \n",
    "        ]   \n",
    "    }"
   ]
  }
 ],
 "metadata": {
  "kernelspec": {
   "display_name": "Python 3",
   "language": "python",
   "name": "python3"
  },
  "language_info": {
   "codemirror_mode": {
    "name": "ipython",
    "version": 3
   },
   "file_extension": ".py",
   "mimetype": "text/x-python",
   "name": "python",
   "nbconvert_exporter": "python",
   "pygments_lexer": "ipython3",
   "version": "3.6.6"
  }
 },
 "nbformat": 4,
 "nbformat_minor": 2
}
