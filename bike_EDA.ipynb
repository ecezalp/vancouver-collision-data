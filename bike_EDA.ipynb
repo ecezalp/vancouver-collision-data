{
 "cells": [
  {
   "cell_type": "code",
   "execution_count": 2,
   "metadata": {},
   "outputs": [
    {
     "data": {
      "text/html": [
       "<script>requirejs.config({paths: { 'plotly': ['https://cdn.plot.ly/plotly-latest.min']},});if(!window.Plotly) {{require(['plotly'],function(plotly) {window.Plotly=plotly;});}}</script>"
      ],
      "text/vnd.plotly.v1+html": [
       "<script>requirejs.config({paths: { 'plotly': ['https://cdn.plot.ly/plotly-latest.min']},});if(!window.Plotly) {{require(['plotly'],function(plotly) {window.Plotly=plotly;});}}</script>"
      ]
     },
     "metadata": {},
     "output_type": "display_data"
    }
   ],
   "source": [
    "import pandas as pd\n",
    "import requests\n",
    "import datetime\n",
    "import matplotlib.pyplot as plt\n",
    "import seaborn as sns\n",
    "%matplotlib inline\n",
    "\n",
    "import plotly\n",
    "import plotly.graph_objs as go\n",
    "plotly.offline.init_notebook_mode(connected=True)"
   ]
  },
  {
   "cell_type": "code",
   "execution_count": 7,
   "metadata": {},
   "outputs": [],
   "source": [
    "df = pd.read_csv('vancouver-collision-data/large/mobi_2018.txt', sep='\\t')"
   ]
  },
  {
   "cell_type": "code",
   "execution_count": 15,
   "metadata": {},
   "outputs": [
    {
     "data": {
      "text/html": [
       "<div>\n",
       "<style>\n",
       "    .dataframe thead tr:only-child th {\n",
       "        text-align: right;\n",
       "    }\n",
       "\n",
       "    .dataframe thead th {\n",
       "        text-align: left;\n",
       "    }\n",
       "\n",
       "    .dataframe tbody tr th {\n",
       "        vertical-align: top;\n",
       "    }\n",
       "</style>\n",
       "<table border=\"1\" class=\"dataframe\">\n",
       "  <thead>\n",
       "    <tr style=\"text-align: right;\">\n",
       "      <th></th>\n",
       "      <th>Departure</th>\n",
       "      <th>Return</th>\n",
       "      <th>Bike</th>\n",
       "      <th>Departure_Station</th>\n",
       "      <th>Return_Station</th>\n",
       "      <th>Covered_Distance_m</th>\n",
       "      <th>Duration_sec</th>\n",
       "      <th>Departure_battery_voltage_mV</th>\n",
       "      <th>Return_battery_voltage_mV</th>\n",
       "      <th>Departure_temperature</th>\n",
       "      <th>Return_temperature</th>\n",
       "    </tr>\n",
       "  </thead>\n",
       "  <tbody>\n",
       "    <tr>\n",
       "      <th>178771</th>\n",
       "      <td>5/12/2018 22:00</td>\n",
       "      <td>5/12/2018 22:00</td>\n",
       "      <td>810.0</td>\n",
       "      <td>0104 Stanley Park - Second Beach South</td>\n",
       "      <td>0084 Sunset Beach West</td>\n",
       "      <td>1901.0</td>\n",
       "      <td>1788</td>\n",
       "      <td>4034</td>\n",
       "      <td>4158</td>\n",
       "      <td>17</td>\n",
       "      <td>16</td>\n",
       "    </tr>\n",
       "    <tr>\n",
       "      <th>340932</th>\n",
       "      <td>7/21/2018 14:00</td>\n",
       "      <td>7/21/2018 14:00</td>\n",
       "      <td>1147.0</td>\n",
       "      <td>0105 Stanley Park - Totem Poles</td>\n",
       "      <td>0104 Stanley Park - Second Beach South</td>\n",
       "      <td>7312.0</td>\n",
       "      <td>2778</td>\n",
       "      <td>4074</td>\n",
       "      <td>4261</td>\n",
       "      <td>25</td>\n",
       "      <td>25</td>\n",
       "    </tr>\n",
       "    <tr>\n",
       "      <th>89193</th>\n",
       "      <td>4/25/2018 16:00</td>\n",
       "      <td>4/25/2018 16:00</td>\n",
       "      <td>953.0</td>\n",
       "      <td>0066 Anderson &amp; 2nd</td>\n",
       "      <td>0109 7th &amp; Arbutus</td>\n",
       "      <td>1494.0</td>\n",
       "      <td>620</td>\n",
       "      <td>3858</td>\n",
       "      <td>3979</td>\n",
       "      <td>20</td>\n",
       "      <td>23</td>\n",
       "    </tr>\n",
       "    <tr>\n",
       "      <th>237911</th>\n",
       "      <td>6/11/2018 11:00</td>\n",
       "      <td>6/11/2018 11:00</td>\n",
       "      <td>727.0</td>\n",
       "      <td>0080 Laurel &amp; Broadway</td>\n",
       "      <td>0068 Cypress &amp; Broadway</td>\n",
       "      <td>1935.0</td>\n",
       "      <td>595</td>\n",
       "      <td>3852</td>\n",
       "      <td>3989</td>\n",
       "      <td>17</td>\n",
       "      <td>19</td>\n",
       "    </tr>\n",
       "    <tr>\n",
       "      <th>384942</th>\n",
       "      <td>7/9/2018 11:00</td>\n",
       "      <td>7/9/2018 11:00</td>\n",
       "      <td>372.0</td>\n",
       "      <td>0050 Bute &amp; Comox</td>\n",
       "      <td>0005 Dunsmuir &amp; Beatty</td>\n",
       "      <td>2166.0</td>\n",
       "      <td>518</td>\n",
       "      <td>4090</td>\n",
       "      <td>4229</td>\n",
       "      <td>23</td>\n",
       "      <td>25</td>\n",
       "    </tr>\n",
       "  </tbody>\n",
       "</table>\n",
       "</div>"
      ],
      "text/plain": [
       "              Departure           Return    Bike  \\\n",
       "178771  5/12/2018 22:00  5/12/2018 22:00   810.0   \n",
       "340932  7/21/2018 14:00  7/21/2018 14:00  1147.0   \n",
       "89193   4/25/2018 16:00  4/25/2018 16:00   953.0   \n",
       "237911  6/11/2018 11:00  6/11/2018 11:00   727.0   \n",
       "384942   7/9/2018 11:00   7/9/2018 11:00   372.0   \n",
       "\n",
       "                             Departure_Station  \\\n",
       "178771  0104 Stanley Park - Second Beach South   \n",
       "340932         0105 Stanley Park - Totem Poles   \n",
       "89193                      0066 Anderson & 2nd   \n",
       "237911                  0080 Laurel & Broadway   \n",
       "384942                       0050 Bute & Comox   \n",
       "\n",
       "                                Return_Station  Covered_Distance_m  \\\n",
       "178771                  0084 Sunset Beach West              1901.0   \n",
       "340932  0104 Stanley Park - Second Beach South              7312.0   \n",
       "89193                       0109 7th & Arbutus              1494.0   \n",
       "237911                 0068 Cypress & Broadway              1935.0   \n",
       "384942                  0005 Dunsmuir & Beatty              2166.0   \n",
       "\n",
       "        Duration_sec  Departure_battery_voltage_mV  Return_battery_voltage_mV  \\\n",
       "178771          1788                          4034                       4158   \n",
       "340932          2778                          4074                       4261   \n",
       "89193            620                          3858                       3979   \n",
       "237911           595                          3852                       3989   \n",
       "384942           518                          4090                       4229   \n",
       "\n",
       "        Departure_temperature  Return_temperature  \n",
       "178771                     17                  16  \n",
       "340932                     25                  25  \n",
       "89193                      20                  23  \n",
       "237911                     17                  19  \n",
       "384942                     23                  25  "
      ]
     },
     "execution_count": 15,
     "metadata": {},
     "output_type": "execute_result"
    }
   ],
   "source": [
    "df.sample(5)"
   ]
  }
 ],
 "metadata": {
  "kernelspec": {
   "display_name": "Python 3",
   "language": "python",
   "name": "python3"
  },
  "language_info": {
   "codemirror_mode": {
    "name": "ipython",
    "version": 3
   },
   "file_extension": ".py",
   "mimetype": "text/x-python",
   "name": "python",
   "nbconvert_exporter": "python",
   "pygments_lexer": "ipython3",
   "version": "3.6.6"
  }
 },
 "nbformat": 4,
 "nbformat_minor": 2
}
