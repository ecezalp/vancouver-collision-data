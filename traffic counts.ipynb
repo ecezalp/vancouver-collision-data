{
 "cells": [
  {
   "cell_type": "code",
   "execution_count": 3,
   "metadata": {
    "collapsed": true
   },
   "outputs": [],
   "source": [
    "import pandas as pd"
   ]
  },
  {
   "cell_type": "code",
   "execution_count": 4,
   "metadata": {},
   "outputs": [
    {
     "name": "stderr",
     "output_type": "stream",
     "text": [
      "C:\\Anaconda3\\lib\\site-packages\\IPython\\core\\interactiveshell.py:2717: DtypeWarning: Columns (6,10) have mixed types. Specify dtype option on import or set low_memory=False.\n",
      "  interactivity=interactivity, compiler=compiler, result=result)\n"
     ]
    }
   ],
   "source": [
    "df_intersections = pd.read_csv('large/traffic_intersection.txt')"
   ]
  },
  {
   "cell_type": "code",
   "execution_count": 5,
   "metadata": {},
   "outputs": [
    {
     "data": {
      "text/html": [
       "<div>\n",
       "<style>\n",
       "    .dataframe thead tr:only-child th {\n",
       "        text-align: right;\n",
       "    }\n",
       "\n",
       "    .dataframe thead th {\n",
       "        text-align: left;\n",
       "    }\n",
       "\n",
       "    .dataframe tbody tr th {\n",
       "        vertical-align: top;\n",
       "    }\n",
       "</style>\n",
       "<table border=\"1\" class=\"dataframe\">\n",
       "  <thead>\n",
       "    <tr style=\"text-align: right;\">\n",
       "      <th></th>\n",
       "      <th>Object_ID</th>\n",
       "      <th>Street_Name_A</th>\n",
       "      <th>Street_Name_B</th>\n",
       "      <th>Approach</th>\n",
       "      <th>Count_Date</th>\n",
       "      <th>Left</th>\n",
       "      <th>Thru</th>\n",
       "      <th>Right</th>\n",
       "      <th>Quarterly_Vol</th>\n",
       "      <th>Bike</th>\n",
       "      <th>Ped</th>\n",
       "      <th>STREET_INTERSECTION_ID</th>\n",
       "      <th>LOC_LAT</th>\n",
       "      <th>LOC_LONG</th>\n",
       "    </tr>\n",
       "  </thead>\n",
       "  <tbody>\n",
       "    <tr>\n",
       "      <th>0</th>\n",
       "      <td>2</td>\n",
       "      <td>BLANCA ST</td>\n",
       "      <td>W 4TH AV</td>\n",
       "      <td>E</td>\n",
       "      <td>1/20/2016 7:00</td>\n",
       "      <td>24</td>\n",
       "      <td>57</td>\n",
       "      <td>1</td>\n",
       "      <td>82</td>\n",
       "      <td>1</td>\n",
       "      <td>0</td>\n",
       "      <td>__FIEMU6</td>\n",
       "      <td>49.269104</td>\n",
       "      <td>-123.215024</td>\n",
       "    </tr>\n",
       "    <tr>\n",
       "      <th>1</th>\n",
       "      <td>3</td>\n",
       "      <td>BLANCA ST</td>\n",
       "      <td>W 4TH AV</td>\n",
       "      <td>E</td>\n",
       "      <td>1/20/2016 7:15</td>\n",
       "      <td>24</td>\n",
       "      <td>75</td>\n",
       "      <td>0</td>\n",
       "      <td>99</td>\n",
       "      <td>0</td>\n",
       "      <td>1</td>\n",
       "      <td>__FIEMU6</td>\n",
       "      <td>49.269104</td>\n",
       "      <td>-123.215024</td>\n",
       "    </tr>\n",
       "    <tr>\n",
       "      <th>2</th>\n",
       "      <td>4</td>\n",
       "      <td>BLANCA ST</td>\n",
       "      <td>W 4TH AV</td>\n",
       "      <td>E</td>\n",
       "      <td>1/20/2016 7:30</td>\n",
       "      <td>30</td>\n",
       "      <td>87</td>\n",
       "      <td>2</td>\n",
       "      <td>119</td>\n",
       "      <td>0</td>\n",
       "      <td>0</td>\n",
       "      <td>__FIEMU6</td>\n",
       "      <td>49.269104</td>\n",
       "      <td>-123.215024</td>\n",
       "    </tr>\n",
       "    <tr>\n",
       "      <th>3</th>\n",
       "      <td>5</td>\n",
       "      <td>BLANCA ST</td>\n",
       "      <td>W 4TH AV</td>\n",
       "      <td>E</td>\n",
       "      <td>1/20/2016 7:45</td>\n",
       "      <td>53</td>\n",
       "      <td>109</td>\n",
       "      <td>2</td>\n",
       "      <td>164</td>\n",
       "      <td>3</td>\n",
       "      <td>1</td>\n",
       "      <td>__FIEMU6</td>\n",
       "      <td>49.269104</td>\n",
       "      <td>-123.215024</td>\n",
       "    </tr>\n",
       "    <tr>\n",
       "      <th>4</th>\n",
       "      <td>6</td>\n",
       "      <td>BLANCA ST</td>\n",
       "      <td>W 4TH AV</td>\n",
       "      <td>E</td>\n",
       "      <td>1/20/2016 8:00</td>\n",
       "      <td>37</td>\n",
       "      <td>112</td>\n",
       "      <td>3</td>\n",
       "      <td>152</td>\n",
       "      <td>1</td>\n",
       "      <td>1</td>\n",
       "      <td>__FIEMU6</td>\n",
       "      <td>49.269104</td>\n",
       "      <td>-123.215024</td>\n",
       "    </tr>\n",
       "  </tbody>\n",
       "</table>\n",
       "</div>"
      ],
      "text/plain": [
       "  Object_ID Street_Name_A Street_Name_B Approach      Count_Date  Left Thru  \\\n",
       "0         2     BLANCA ST      W 4TH AV        E  1/20/2016 7:00    24   57   \n",
       "1         3     BLANCA ST      W 4TH AV        E  1/20/2016 7:15    24   75   \n",
       "2         4     BLANCA ST      W 4TH AV        E  1/20/2016 7:30    30   87   \n",
       "3         5     BLANCA ST      W 4TH AV        E  1/20/2016 7:45    53  109   \n",
       "4         6     BLANCA ST      W 4TH AV        E  1/20/2016 8:00    37  112   \n",
       "\n",
       "   Right Quarterly_Vol  Bike Ped STREET_INTERSECTION_ID    LOC_LAT    LOC_LONG  \n",
       "0      1            82     1   0               __FIEMU6  49.269104 -123.215024  \n",
       "1      0            99     0   1               __FIEMU6  49.269104 -123.215024  \n",
       "2      2           119     0   0               __FIEMU6  49.269104 -123.215024  \n",
       "3      2           164     3   1               __FIEMU6  49.269104 -123.215024  \n",
       "4      3           152     1   1               __FIEMU6  49.269104 -123.215024  "
      ]
     },
     "execution_count": 5,
     "metadata": {},
     "output_type": "execute_result"
    }
   ],
   "source": [
    "df_intersections.head()"
   ]
  },
  {
   "cell_type": "code",
   "execution_count": null,
   "metadata": {
    "collapsed": true
   },
   "outputs": [],
   "source": []
  }
 ],
 "metadata": {
  "kernelspec": {
   "display_name": "Python 3",
   "language": "python",
   "name": "python3"
  },
  "language_info": {
   "codemirror_mode": {
    "name": "ipython",
    "version": 3
   },
   "file_extension": ".py",
   "mimetype": "text/x-python",
   "name": "python",
   "nbconvert_exporter": "python",
   "pygments_lexer": "ipython3",
   "version": "3.6.6"
  }
 },
 "nbformat": 4,
 "nbformat_minor": 2
}
